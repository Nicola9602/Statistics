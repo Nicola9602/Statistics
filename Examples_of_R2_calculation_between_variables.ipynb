{
 "cells": [
  {
   "cell_type": "code",
   "execution_count": null,
   "metadata": {},
   "outputs": [],
   "source": [
    "\n",
    "import numpy as np\n",
    "import matplotlib.pyplot as plt\n",
    "from sklearn.linear_model import LinearRegression\n",
    "from sklearn.metrics import r2_score\n",
    "\n",
    "# Generate data\n",
    "np.random.seed(42)\n",
    "x = np.random.uniform(0, 10, 100).reshape(-1, 1)  # Random independent variable\n",
    "y = np.random.uniform(0, 1, 100)                 # Random dependent variable with no relation to x\n",
    "\n",
    "# Linear regression model\n",
    "model = LinearRegression()\n",
    "model.fit(x, y)\n",
    "y_pred = model.predict(x)\n",
    "\n",
    "# Calculate R² manually\n",
    "var_mean = np.var(y)\n",
    "var_fit = np.var(y_pred)\n",
    "r2 = (var_mean - var_fit) / var_mean\n",
    "\n",
    "# Plotting the data and the regression line\n",
    "plt.scatter(x, y, label='Data', color='blue', alpha=0.7)\n",
    "plt.plot(x, y_pred, label='Fit', color='red')\n",
    "plt.axhline(np.mean(y), color='green', linestyle='--', label='Mean')\n",
    "plt.title(f\"R² = {r2:.3f} (Negative)\")\n",
    "plt.xlabel('x')\n",
    "plt.ylabel('y')\n",
    "plt.legend()\n",
    "plt.show()"
   ]
  }
 ],
 "metadata": {
  "language_info": {
   "name": "python"
  }
 },
 "nbformat": 4,
 "nbformat_minor": 2
}
